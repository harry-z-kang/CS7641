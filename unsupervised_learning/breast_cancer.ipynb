{
 "cells": [
  {
   "cell_type": "code",
   "execution_count": 11,
   "id": "indirect-frederick",
   "metadata": {},
   "outputs": [],
   "source": [
    "%config IPCompleter.greedy = True\n",
    "%config IPCompleter.use_jedi = False\n"
   ]
  },
  {
   "cell_type": "markdown",
   "id": "3f59d7d7",
   "metadata": {},
   "source": [
    "# Set Up\n"
   ]
  },
  {
   "cell_type": "code",
   "execution_count": 12,
   "id": "third-diary",
   "metadata": {},
   "outputs": [],
   "source": [
    "import time\n",
    "\n",
    "from sklearn import preprocessing\n",
    "from sklearn.cluster import KMeans\n",
    "from sklearn.decomposition import PCA\n",
    "from sklearn.decomposition import FastICA, TruncatedSVD\n",
    "from sklearn.decomposition import NMF\n",
    "from sklearn.ensemble import ExtraTreesClassifier\n",
    "from sklearn.feature_selection import SelectFromModel\n",
    "from sklearn.metrics import silhouette_score, adjusted_mutual_info_score, silhouette_samples, mean_squared_error, accuracy_score, confusion_matrix\n",
    "from sklearn.mixture import GaussianMixture\n",
    "from sklearn.model_selection import train_test_split, validation_curve, learning_curve, GridSearchCV\n",
    "from sklearn.neural_network import MLPClassifier\n",
    "from sklearn.random_projection import GaussianRandomProjection\n",
    "\n",
    "import matplotlib.cm as cm\n",
    "import matplotlib.pyplot as plt\n",
    "import matplotlib\n",
    "from mpl_toolkits.mplot3d import Axes3D\n",
    "\n",
    "import numpy as np\n",
    "from numpy import linalg as LA\n",
    "\n",
    "import scipy\n",
    "import scipy.stats\n",
    "from scipy.linalg import pinv\n",
    "\n",
    "import pandas as pd\n",
    "\n",
    "import itertools\n",
    "\n",
    "import warnings\n",
    "warnings.filterwarnings('ignore')\n"
   ]
  },
  {
   "cell_type": "markdown",
   "id": "prescription-newsletter",
   "metadata": {},
   "source": [
    "# Data Preprocessing\n"
   ]
  },
  {
   "cell_type": "code",
   "execution_count": 13,
   "id": "spoken-recommendation",
   "metadata": {},
   "outputs": [
    {
     "name": "stdout",
     "output_type": "stream",
     "text": [
      "Number of samples: 569\n",
      "Percentage of Malignment: 37.258%\n",
      "Percentage of Benign: 62.742%\n",
      "Splitting into train/test sets...Done\n",
      "Setting up global variables...Done\n"
     ]
    }
   ],
   "source": [
    "data = pd.read_csv('data/breast-cancer-wisconsin.data')\n",
    "data.drop(['id', 'Unnamed: 32'], axis=1, inplace=True)\n",
    "\n",
    "FEATURES = preprocessing.scale(data.drop(['diagnosis'], axis=1))\n",
    "TARGET = data[\"diagnosis\"]\n",
    "\n",
    "print(f\"Number of samples: {TARGET.size}\")\n",
    "print(\n",
    "    f\"Percentage of Malignment: {TARGET.value_counts(normalize=True)['M'] * 100:.3f}%\")\n",
    "print(\n",
    "    f\"Percentage of Benign: {TARGET.value_counts(normalize=True)['B'] * 100:.3f}%\")\n",
    "\n",
    "data[\"diagnosis\"] = preprocessing.OrdinalEncoder().fit_transform(data[[\"diagnosis\"]])\n",
    "TARGET = data[\"diagnosis\"].astype(int)\n",
    "\n",
    "print(\"Splitting into train/test sets...\", end=\"\")\n",
    "FEATURES_TRAIN, FEATURES_TEST, TARGET_TRAIN, TARGET_TEST = train_test_split(\n",
    "    FEATURES, TARGET, test_size=0.3, random_state=42)\n",
    "print(\"Done\")\n",
    "\n",
    "print(\"Setting up global variables...\", end=\"\")\n",
    "classifier_accuracy = np.zeros(6)\n",
    "train_time = np.zeros(6)\n",
    "infer_time = np.zeros(6)\n",
    "print(\"Done\")"
   ]
  },
  {
   "cell_type": "markdown",
   "id": "2432dd42",
   "metadata": {},
   "source": [
    "# Helper Functions\n"
   ]
  },
  {
   "cell_type": "code",
   "execution_count": 14,
   "id": "f8735a2f",
   "metadata": {},
   "outputs": [],
   "source": [
    "# Code taken from scikit-learn examples (https://scikit-learn.org/stable/auto_examples/cluster/plot_kmeans_silhouette_analysis.html)\n",
    "def silhouette_analysis(name, range_n_clusters, features):\n",
    "    max_score = 0\n",
    "    best_n_clusters = 0\n",
    "    for n_clusters in range_n_clusters:\n",
    "        # Create a subplot with 1 row and 2 columns\n",
    "        fig, (ax1, ax2) = plt.subplots(1, 2)\n",
    "        fig.set_size_inches(18, 7)\n",
    "\n",
    "        # The 1st subplot is the silhouette plot\n",
    "        # The silhouette coefficient can range from -1, 1 but in this example all\n",
    "        # lie within [-0.1, 1]\n",
    "        ax1.set_xlim([-0.1, 1])\n",
    "        # The (best_n_clusters+1)*10 is for inserting blank space between silhouette\n",
    "        # plots of individual clusters, to demarcate them clearly.\n",
    "        ax1.set_ylim([0, len(features) + (best_n_clusters + 1) * 10])\n",
    "\n",
    "        # Initialize the clusterer with n_clusters value and a random generator\n",
    "        # seed of 10 for reproducibility.\n",
    "        clusterer = KMeans(n_clusters=n_clusters, random_state=10)\n",
    "        cluster_labels = clusterer.fit_predict(features)\n",
    "\n",
    "        # The silhouette_score gives the average value for all the samples.\n",
    "        # This gives a perspective into the density and separation of the formed\n",
    "        # clusters\n",
    "        silhouette_avg = silhouette_score(features, cluster_labels)\n",
    "        print(f\"For n_clusters={n_clusters}, The average silhouette_score is: {silhouette_avg}\")\n",
    "        if silhouette_avg > max_score:\n",
    "            max_score = silhouette_avg\n",
    "            best_n_clusters = n_clusters\n",
    "\n",
    "        # Compute the silhouette scores for each sample\n",
    "        sample_silhouette_values = silhouette_samples(features, cluster_labels)\n",
    "\n",
    "        y_lower = 10\n",
    "        for i in range(best_n_clusters):\n",
    "            # Aggregate the silhouette scores for samples belonging to\n",
    "            # cluster i, and sort them\n",
    "            ith_cluster_silhouette_values = sample_silhouette_values[cluster_labels == i]\n",
    "\n",
    "            ith_cluster_silhouette_values.sort()\n",
    "\n",
    "            size_cluster_i = ith_cluster_silhouette_values.shape[0]\n",
    "            y_upper = y_lower + size_cluster_i\n",
    "\n",
    "            color = cm.nipy_spectral(float(i) / best_n_clusters)\n",
    "            ax1.fill_betweenx(\n",
    "                np.arange(y_lower, y_upper),\n",
    "                0,\n",
    "                ith_cluster_silhouette_values,\n",
    "                facecolor=color,\n",
    "                edgecolor=color,\n",
    "                alpha=0.7,\n",
    "            )\n",
    "\n",
    "            # Label the silhouette plots with their cluster numbers at the middle\n",
    "            ax1.text(-0.05, y_lower + 0.5 * size_cluster_i, str(i))\n",
    "\n",
    "            # Compute the new y_lower for next plot\n",
    "            y_lower = y_upper + 10  # 10 for the 0 samples\n",
    "\n",
    "        ax1.set_title(\"The silhouette plot for the various clusters.\")\n",
    "        ax1.set_xlabel(\"The silhouette coefficient values\")\n",
    "        ax1.set_ylabel(\"Cluster label\")\n",
    "\n",
    "        # The vertical line for average silhouette score of all the values\n",
    "        ax1.axvline(x=silhouette_avg, color=\"red\", linestyle=\"--\")\n",
    "\n",
    "        ax1.set_yticks([])  # Clear the yaxis labels / ticks\n",
    "        ax1.set_xticks([-0.1, 0, 0.2, 0.4, 0.6, 0.8, 1])\n",
    "\n",
    "        # 2nd Plot showing the actual clusters formed\n",
    "        colors = cm.nipy_spectral(cluster_labels.astype(float) / best_n_clusters)\n",
    "        ax2.scatter(\n",
    "            features[:, 0], features[:, 1], marker=\".\",\n",
    "            s=30, lw=0, alpha=0.7, c=colors, edgecolor=\"k\"\n",
    "        )\n",
    "\n",
    "        # Labeling the clusters\n",
    "        centers = clusterer.cluster_centers_\n",
    "        # Draw white circles at cluster centers\n",
    "        ax2.scatter(\n",
    "            centers[:, 0], centers[:, 1], marker=\"o\",\n",
    "            c=\"white\", alpha=1, s=200, edgecolor=\"k\"\n",
    "        )\n",
    "\n",
    "        for i, c in enumerate(centers):\n",
    "            ax2.scatter(\n",
    "                c[0], c[1], marker=f\"${i}$\",\n",
    "                alpha=1, s=50, edgecolor=\"k\"\n",
    "            )\n",
    "\n",
    "        ax2.set_title(\"The visualization of the clustered data.\")\n",
    "        ax2.set_xlabel(\"Feature space for the 1st feature\")\n",
    "        ax2.set_ylabel(\"Feature space for the 2nd feature\")\n",
    "\n",
    "        plt.suptitle(\n",
    "            f\"Silhouette analysis for KMeans clustering on sample data with the best No. of clusters = {best_n_clusters}\",\n",
    "            fontsize=14,\n",
    "            fontweight=\"bold\",\n",
    "        )\n",
    "    plt.savefig(f'images/bcw/{name}_silhouette.png')\n",
    "    plt.show()\n",
    "\n",
    "    return best_n_clusters\n"
   ]
  },
  {
   "cell_type": "code",
   "execution_count": 15,
   "id": "9c508818",
   "metadata": {},
   "outputs": [],
   "source": [
    "def plot_features_visualization(clustering_method, dim_reduction_method, labels, features, target, np_seed):\n",
    "    np.random.seed(np_seed)\n",
    "    data_viz = pd.DataFrame(features)\n",
    "    data_viz['diagnosis'] = target\n",
    "    data_viz['cluster_class'] = labels\n",
    "\n",
    "    idx_viz = np.append(np.random.randint(\n",
    "        0, data_viz.shape[1] - 2, 5), [data_viz.shape[1] - 2, data_viz.shape[1] - 1])\n",
    "\n",
    "    plt.figure(figsize=(8, 6))\n",
    "    pd.plotting.parallel_coordinates(\n",
    "        data_viz.iloc[:, idx_viz], 'cluster_class', colormap='jet')\n",
    "    plt.xticks(rotation=45)\n",
    "    plt.xlabel('Feature')\n",
    "    plt.ylabel('Standardized Value')\n",
    "    if dim_reduction_method == None:\n",
    "      plt.title(f'Parallel Coordinates Visualization for {clustering_method}')\n",
    "      plt.savefig(f'images/bcw/{clustering_method}_parallel_coordinates.png')\n",
    "    else:\n",
    "      plt.title(f'Parallel Coordinates Visualization for {clustering_method} ({dim_reduction_method.upper()})')\n",
    "      plt.savefig(f'images/bcw/{clustering_method}_parallel_coordinates_{dim_reduction_method}.png')\n",
    "    plt.tight_layout()\n",
    "\n",
    "    for i in range(max(labels) + 1):\n",
    "        print(data[data_viz['cluster_class'] == i]['diagnosis'].value_counts())\n"
   ]
  },
  {
   "cell_type": "code",
   "execution_count": 16,
   "id": "2f7a16c3",
   "metadata": {},
   "outputs": [],
   "source": [
    "def plot_reduced_dataset(name, features_3d):\n",
    "  fig = plt.figure()\n",
    "  ax = Axes3D(fig)\n",
    "  for i in range(len(TARGET)):\n",
    "      if TARGET[i] == 0:\n",
    "          ax.scatter(features_3d[i, :][0], features_3d[i, :][1],\n",
    "                    features_3d[i, :][2], c='g', marker='o', label='0')\n",
    "      elif TARGET[i] == 1:\n",
    "          ax.scatter(features_3d[i, :][0], features_3d[i, :][1],\n",
    "                    features_3d[i, :][2], c='r', marker='o', label='1')\n",
    "  ax.set_xlabel(f'{name} 1st Component')\n",
    "  ax.set_ylabel(f'{name} 2nd Component')\n",
    "  ax.set_zlabel(f'{name} 3rd Component')\n",
    "  plt.title(f'BCW Dataset Reduced to 3D ({name})')\n",
    "  plt.show()"
   ]
  },
  {
   "cell_type": "code",
   "execution_count": 17,
   "id": "cee54006",
   "metadata": {},
   "outputs": [],
   "source": [
    "def train_neural_network(nn_classifier, features_train, target_train, features_test, target_test, name):\n",
    "    param_grid = {\n",
    "      'alpha': np.logspace(-3, 3, 7),\n",
    "      'hidden_layer_sizes': np.arange(2, 25, 2)\n",
    "    }\n",
    "    nn_classifier_best = GridSearchCV(nn_classifier, param_grid=param_grid, cv=4)\n",
    "\n",
    "    start_time = time.time()\n",
    "    nn_classifier_best.fit(features_train, target_train)\n",
    "    end_time = time.time()\n",
    "    time_train = end_time-start_time\n",
    "    print(\"Best params for neural network:\",\n",
    "          nn_classifier_best.best_params_)\n",
    "    print(\"Time to train:\", time_train)\n",
    "\n",
    "    start_time = time.time()\n",
    "    classifier_accuracy = accuracy_score(\n",
    "        target_test, nn_classifier_best.predict(features_test))\n",
    "    end_time = time.time()\n",
    "    time_infer = end_time-start_time\n",
    "    print(\"Accuracy for best neural network:\", classifier_accuracy)\n",
    "    print(\"Time to infer:\", time_infer)\n",
    "\n",
    "    nn_classifier_learning = MLPClassifier(\n",
    "        random_state=42, max_iter=2000,\n",
    "        hidden_layer_sizes=nn_classifier_best.best_params_['hidden_layer_sizes'],\n",
    "        alpha=nn_classifier_best.best_params_['alpha']\n",
    "    )\n",
    "    _, train_scores, test_scores = learning_curve(\n",
    "        nn_classifier_learning,\n",
    "        features_train,target_train,\n",
    "        train_sizes=np.linspace(0.1, 1.0, 10), cv=4\n",
    "    )\n",
    "\n",
    "    plt.figure()\n",
    "    plt.plot(np.linspace(0.1, 1.0, 10)*100,\n",
    "            np.mean(train_scores, axis=1), label='Train Score')\n",
    "    plt.plot(np.linspace(0.1, 1.0, 10)*100,\n",
    "            np.mean(test_scores, axis=1), label='CV Score')\n",
    "    plt.legend()\n",
    "    plt.title(\"Learning Curve (Neural Network)\")\n",
    "    plt.xlabel(\"Percentage of Training Examples\")\n",
    "    plt.ylabel(\"Score\")\n",
    "    plt.xticks(np.linspace(0.1, 1.0, 10)*100)\n",
    "    plt.grid()\n",
    "    plt.savefig(f'images/bcw/neural_network_learning_curve_{name}.png')\n",
    "    plt.show()"
   ]
  },
  {
   "cell_type": "code",
   "execution_count": 18,
   "id": "ae23a958",
   "metadata": {},
   "outputs": [],
   "source": [
    "def kmeans_clustering(range_n_clusters, features, target, np_seed, name):\n",
    "    inertia = []\n",
    "    for n_clusters in range_n_clusters:\n",
    "        k_means_clustering = KMeans(n_clusters=n_clusters, random_state=42)\n",
    "        k_means_clustering.fit(features)\n",
    "        inertia.append(k_means_clustering.inertia_)\n",
    "\n",
    "    plt.plot(range_n_clusters, inertia)\n",
    "    plt.xlabel('Clusters')\n",
    "    plt.ylabel('Inertia')\n",
    "    plt.title(f'Clusters vs. Inertia for BCW {name.upper()}')\n",
    "    plt.grid()\n",
    "    plt.savefig(f'images/bcw/kmeans_inertia_{name}.png')\n",
    "    plt.show()\n",
    "\n",
    "    k = silhouette_analysis(\"kmeans\", range_n_clusters, features)\n",
    "\n",
    "    k_means_clustering = KMeans(n_clusters=k, random_state=42)\n",
    "    k_means_clustering.fit(features)\n",
    "    print('Inertia: ', k_means_clustering.inertia_)\n",
    "    silhouette_score_value = silhouette_score(features, k_means_clustering.labels_)\n",
    "    print('Silhouette score: ', silhouette_score_value)\n",
    "    adjusted_mutual_info_score_value = adjusted_mutual_info_score(\n",
    "        target, k_means_clustering.labels_)\n",
    "    print('Adjusted Mutual Information (AMI) score: ',\n",
    "          adjusted_mutual_info_score_value)\n",
    "\n",
    "    plt.figure()\n",
    "    plt.hist(k_means_clustering.labels_, bins=np.arange(\n",
    "        0, k + 1) - 0.5, rwidth=0.5, zorder=2)\n",
    "    plt.xticks(np.arange(0, k))\n",
    "    plt.xlabel('Cluster')\n",
    "    plt.ylabel('Samples per Cluster')\n",
    "    plt.title(f'Distribution of data per cluster for K-Means on BCW ({name.upper()})')\n",
    "    plt.grid()\n",
    "\n",
    "    plot_features_visualization(\"kmeans\", None, k_means_clustering.labels_, features, target, np_seed)\n",
    "\n",
    "    "
   ]
  },
  {
   "cell_type": "code",
   "execution_count": 19,
   "id": "999c9d68",
   "metadata": {},
   "outputs": [],
   "source": [
    "def gmm_clustering(features, target, np_seed, name):\n",
    "    lowest_bic = np.infty\n",
    "    num_components_values = range(1, 20)\n",
    "    covariances = ['spherical', 'tied', 'diag', 'full']\n",
    "    bic = np.zeros((len(covariances), len(num_components_values)))\n",
    "    for i, covariance in enumerate(covariances):\n",
    "        for j, num_components in enumerate(num_components_values):\n",
    "            gmm = GaussianMixture(n_components=num_components, covariance_type=covariance)\n",
    "            gmm.fit(FEATURES)\n",
    "            bic[i][j] = gmm.bic(FEATURES)\n",
    "            if bic[i][j] < lowest_bic:\n",
    "                lowest_bic = bic[i][j]\n",
    "                print(\"Lowest BIC currently for\", covariance, num_components)\n",
    "                best_gmm = gmm\n",
    "\n",
    "    plt.figure()\n",
    "    plt.plot(num_components_values, bic[0], label='Spherical')\n",
    "    plt.plot(num_components_values, bic[1], label='Tied')\n",
    "    plt.plot(num_components_values, bic[2], label='Diag')\n",
    "    plt.plot(num_components_values, bic[3], label='Full')\n",
    "    plt.legend()\n",
    "    plt.xticks(num_components_values)\n",
    "    plt.title(\"Number of Components vs. BIC for BCW\")\n",
    "    plt.xlabel(\"Number of Components\")\n",
    "    plt.ylabel(\"BIC Values\")\n",
    "    plt.savefig('images/bcw/gmm_bic.png')\n",
    "    plt.show()\n",
    "\n",
    "    gmm_labels = best_gmm.predict(features)\n",
    "    silhouette_score_value = silhouette_score(features, gmm_labels)\n",
    "    print('Silhouette score: ', silhouette_score_value)\n",
    "    adjusted_mutual_info_score_value = adjusted_mutual_info_score(\n",
    "        target, gmm_labels)\n",
    "    print('Adjusted Mutual Information (AMI) score: ',\n",
    "          adjusted_mutual_info_score_value)\n",
    "\n",
    "    plt.figure()\n",
    "    plt.hist(gmm_labels, bins=np.arange(0, 3) - 0.5, rwidth=0.5, zorder=2)\n",
    "    plt.xticks(np.arange(0, 2))\n",
    "    plt.xlabel('Cluster')\n",
    "    plt.ylabel('Samples per Cluster')\n",
    "    plt.title('Distribution of data per cluster for GMM on BCW')\n",
    "    plt.grid()\n",
    "\n",
    "    plot_features_visualization(\"gmm\", None, gmm_labels, features, target, np_seed)\n"
   ]
  },
  {
   "cell_type": "markdown",
   "id": "muslim-handy",
   "metadata": {},
   "source": [
    "# Clustering\n"
   ]
  },
  {
   "cell_type": "markdown",
   "id": "enclosed-coordinator",
   "metadata": {},
   "source": [
    "## K-Means"
   ]
  },
  {
   "cell_type": "code",
   "execution_count": 20,
   "id": "decimal-velvet",
   "metadata": {},
   "outputs": [
    {
     "data": {
      "image/png": "[encoded data removed]",
      "text/plain": [
       "<Figure size 640x480 with 1 Axes>"
      ]
     },
     "metadata": {},
     "output_type": "display_data"
    },
    {
     "ename": "ValueError",
     "evalue": "Number of labels is 1. Valid values are 2 to n_samples - 1 (inclusive)",
     "output_type": "error",
     "traceback": [
      "\u001b[0;31m---------------------------------------------------------------------------\u001b[0m",
      "\u001b[0;31mValueError\u001b[0m                                Traceback (most recent call last)",
      "\u001b[1;32m/home/harry/Documents/CS7461/unsupervised_learning/breast_cancer.ipynb Cell 15\u001b[0m in \u001b[0;36m<cell line: 1>\u001b[0;34m()\u001b[0m\n\u001b[0;32m----> <a href='vscode-notebook-cell:/home/harry/Documents/CS7461/unsupervised_learning/breast_cancer.ipynb#W6sZmlsZQ%3D%3D?line=0'>1</a>\u001b[0m kmeans_clustering(np\u001b[39m.\u001b[39;49marange(\u001b[39m1\u001b[39;49m, \u001b[39m50\u001b[39;49m, \u001b[39m1\u001b[39;49m), FEATURES, TARGET, \u001b[39m40\u001b[39;49m, \u001b[39m\"\u001b[39;49m\u001b[39mnom\u001b[39;49m\u001b[39m\"\u001b[39;49m)\n",
      "\u001b[1;32m/home/harry/Documents/CS7461/unsupervised_learning/breast_cancer.ipynb Cell 15\u001b[0m in \u001b[0;36mkmeans_clustering\u001b[0;34m(range_n_clusters, features, target, np_seed, name)\u001b[0m\n\u001b[1;32m     <a href='vscode-notebook-cell:/home/harry/Documents/CS7461/unsupervised_learning/breast_cancer.ipynb#W6sZmlsZQ%3D%3D?line=12'>13</a>\u001b[0m plt\u001b[39m.\u001b[39msavefig(\u001b[39mf\u001b[39m\u001b[39m'\u001b[39m\u001b[39mimages/bcw/kmeans_inertia_\u001b[39m\u001b[39m{\u001b[39;00mname\u001b[39m}\u001b[39;00m\u001b[39m.png\u001b[39m\u001b[39m'\u001b[39m)\n\u001b[1;32m     <a href='vscode-notebook-cell:/home/harry/Documents/CS7461/unsupervised_learning/breast_cancer.ipynb#W6sZmlsZQ%3D%3D?line=13'>14</a>\u001b[0m plt\u001b[39m.\u001b[39mshow()\n\u001b[0;32m---> <a href='vscode-notebook-cell:/home/harry/Documents/CS7461/unsupervised_learning/breast_cancer.ipynb#W6sZmlsZQ%3D%3D?line=15'>16</a>\u001b[0m k \u001b[39m=\u001b[39m silhouette_analysis(\u001b[39m\"\u001b[39;49m\u001b[39mkmeans\u001b[39;49m\u001b[39m\"\u001b[39;49m, range_n_clusters, features)\n\u001b[1;32m     <a href='vscode-notebook-cell:/home/harry/Documents/CS7461/unsupervised_learning/breast_cancer.ipynb#W6sZmlsZQ%3D%3D?line=17'>18</a>\u001b[0m k_means_clustering \u001b[39m=\u001b[39m KMeans(n_clusters\u001b[39m=\u001b[39mk, random_state\u001b[39m=\u001b[39m\u001b[39m42\u001b[39m)\n\u001b[1;32m     <a href='vscode-notebook-cell:/home/harry/Documents/CS7461/unsupervised_learning/breast_cancer.ipynb#W6sZmlsZQ%3D%3D?line=18'>19</a>\u001b[0m k_means_clustering\u001b[39m.\u001b[39mfit(features)\n",
      "\u001b[1;32m/home/harry/Documents/CS7461/unsupervised_learning/breast_cancer.ipynb Cell 15\u001b[0m in \u001b[0;36msilhouette_analysis\u001b[0;34m(name, range_n_clusters, features)\u001b[0m\n\u001b[1;32m      <a href='vscode-notebook-cell:/home/harry/Documents/CS7461/unsupervised_learning/breast_cancer.ipynb#W6sZmlsZQ%3D%3D?line=8'>9</a>\u001b[0m cluster_labels \u001b[39m=\u001b[39m clusterer\u001b[39m.\u001b[39mfit_predict(features)\n\u001b[1;32m     <a href='vscode-notebook-cell:/home/harry/Documents/CS7461/unsupervised_learning/breast_cancer.ipynb#W6sZmlsZQ%3D%3D?line=10'>11</a>\u001b[0m \u001b[39m# The silhouette_score gives the average value for all the samples.\u001b[39;00m\n\u001b[1;32m     <a href='vscode-notebook-cell:/home/harry/Documents/CS7461/unsupervised_learning/breast_cancer.ipynb#W6sZmlsZQ%3D%3D?line=11'>12</a>\u001b[0m \u001b[39m# This gives a perspective into the density and separation of the formed\u001b[39;00m\n\u001b[1;32m     <a href='vscode-notebook-cell:/home/harry/Documents/CS7461/unsupervised_learning/breast_cancer.ipynb#W6sZmlsZQ%3D%3D?line=12'>13</a>\u001b[0m \u001b[39m# clusters\u001b[39;00m\n\u001b[0;32m---> <a href='vscode-notebook-cell:/home/harry/Documents/CS7461/unsupervised_learning/breast_cancer.ipynb#W6sZmlsZQ%3D%3D?line=13'>14</a>\u001b[0m silhouette_avg \u001b[39m=\u001b[39m silhouette_score(features, cluster_labels)\n\u001b[1;32m     <a href='vscode-notebook-cell:/home/harry/Documents/CS7461/unsupervised_learning/breast_cancer.ipynb#W6sZmlsZQ%3D%3D?line=14'>15</a>\u001b[0m \u001b[39mprint\u001b[39m(\u001b[39mf\u001b[39m\u001b[39m\"\u001b[39m\u001b[39mFor n_clusters=\u001b[39m\u001b[39m{\u001b[39;00mn_clusters\u001b[39m}\u001b[39;00m\u001b[39m, The average silhouette_score is: \u001b[39m\u001b[39m{\u001b[39;00msilhouette_avg\u001b[39m}\u001b[39;00m\u001b[39m\"\u001b[39m)\n\u001b[1;32m     <a href='vscode-notebook-cell:/home/harry/Documents/CS7461/unsupervised_learning/breast_cancer.ipynb#W6sZmlsZQ%3D%3D?line=15'>16</a>\u001b[0m \u001b[39mif\u001b[39;00m silhouette_avg \u001b[39m>\u001b[39m max_score:\n",
      "File \u001b[0;32m~/.local/lib/python3.10/site-packages/sklearn/metrics/cluster/_unsupervised.py:117\u001b[0m, in \u001b[0;36msilhouette_score\u001b[0;34m(X, labels, metric, sample_size, random_state, **kwds)\u001b[0m\n\u001b[1;32m    115\u001b[0m     \u001b[39melse\u001b[39;00m:\n\u001b[1;32m    116\u001b[0m         X, labels \u001b[39m=\u001b[39m X[indices], labels[indices]\n\u001b[0;32m--> 117\u001b[0m \u001b[39mreturn\u001b[39;00m np\u001b[39m.\u001b[39mmean(silhouette_samples(X, labels, metric\u001b[39m=\u001b[39;49mmetric, \u001b[39m*\u001b[39;49m\u001b[39m*\u001b[39;49mkwds))\n",
      "File \u001b[0;32m~/.local/lib/python3.10/site-packages/sklearn/metrics/cluster/_unsupervised.py:231\u001b[0m, in \u001b[0;36msilhouette_samples\u001b[0;34m(X, labels, metric, **kwds)\u001b[0m\n\u001b[1;32m    229\u001b[0m n_samples \u001b[39m=\u001b[39m \u001b[39mlen\u001b[39m(labels)\n\u001b[1;32m    230\u001b[0m label_freqs \u001b[39m=\u001b[39m np\u001b[39m.\u001b[39mbincount(labels)\n\u001b[0;32m--> 231\u001b[0m check_number_of_labels(\u001b[39mlen\u001b[39;49m(le\u001b[39m.\u001b[39;49mclasses_), n_samples)\n\u001b[1;32m    233\u001b[0m kwds[\u001b[39m\"\u001b[39m\u001b[39mmetric\u001b[39m\u001b[39m\"\u001b[39m] \u001b[39m=\u001b[39m metric\n\u001b[1;32m    234\u001b[0m reduce_func \u001b[39m=\u001b[39m functools\u001b[39m.\u001b[39mpartial(\n\u001b[1;32m    235\u001b[0m     _silhouette_reduce, labels\u001b[39m=\u001b[39mlabels, label_freqs\u001b[39m=\u001b[39mlabel_freqs\n\u001b[1;32m    236\u001b[0m )\n",
      "File \u001b[0;32m~/.local/lib/python3.10/site-packages/sklearn/metrics/cluster/_unsupervised.py:33\u001b[0m, in \u001b[0;36mcheck_number_of_labels\u001b[0;34m(n_labels, n_samples)\u001b[0m\n\u001b[1;32m     22\u001b[0m \u001b[39m\"\"\"Check that number of labels are valid.\u001b[39;00m\n\u001b[1;32m     23\u001b[0m \n\u001b[1;32m     24\u001b[0m \u001b[39mParameters\u001b[39;00m\n\u001b[0;32m   (...)\u001b[0m\n\u001b[1;32m     30\u001b[0m \u001b[39m    Number of samples.\u001b[39;00m\n\u001b[1;32m     31\u001b[0m \u001b[39m\"\"\"\u001b[39;00m\n\u001b[1;32m     32\u001b[0m \u001b[39mif\u001b[39;00m \u001b[39mnot\u001b[39;00m \u001b[39m1\u001b[39m \u001b[39m<\u001b[39m n_labels \u001b[39m<\u001b[39m n_samples:\n\u001b[0;32m---> 33\u001b[0m     \u001b[39mraise\u001b[39;00m \u001b[39mValueError\u001b[39;00m(\n\u001b[1;32m     34\u001b[0m         \u001b[39m\"\u001b[39m\u001b[39mNumber of labels is \u001b[39m\u001b[39m%d\u001b[39;00m\u001b[39m. Valid values are 2 to n_samples - 1 (inclusive)\u001b[39m\u001b[39m\"\u001b[39m\n\u001b[1;32m     35\u001b[0m         \u001b[39m%\u001b[39m n_labels\n\u001b[1;32m     36\u001b[0m     )\n",
      "\u001b[0;31mValueError\u001b[0m: Number of labels is 1. Valid values are 2 to n_samples - 1 (inclusive)"
     ]
    }
   ],
   "source": [
    "kmeans_clustering(np.arange(1, 50, 1), FEATURES, TARGET, 40, \"nom\")\n"
   ]
  },
  {
   "cell_type": "markdown",
   "id": "original-saturn",
   "metadata": {},
   "source": [
    "## EM (GMM)"
   ]
  },
  {
   "cell_type": "code",
   "execution_count": null,
   "id": "environmental-translation",
   "metadata": {},
   "outputs": [],
   "source": [
    "gmm_clustering(FEATURES, TARGET, 40, \"nom\")\n"
   ]
  },
  {
   "cell_type": "markdown",
   "id": "talented-rescue",
   "metadata": {},
   "source": [
    "# Dimensionality Reduction"
   ]
  },
  {
   "cell_type": "markdown",
   "id": "silver-interpretation",
   "metadata": {},
   "source": [
    "## PCA"
   ]
  },
  {
   "cell_type": "code",
   "execution_count": null,
   "id": "instant-correspondence",
   "metadata": {
    "scrolled": true
   },
   "outputs": [],
   "source": [
    "pca = PCA()\n",
    "pca.fit(FEATURES)\n"
   ]
  },
  {
   "cell_type": "code",
   "execution_count": null,
   "id": "vocal-batman",
   "metadata": {},
   "outputs": [],
   "source": [
    "plt.figure()\n",
    "plt.plot(np.arange(1, pca.explained_variance_ratio_.size + 1),\n",
    "         pca.explained_variance_ratio_)\n",
    "plt.xticks(np.arange(1, pca.explained_variance_ratio_.size + 1, 2))\n",
    "plt.xlabel('Component')\n",
    "plt.ylabel('Variance')\n",
    "plt.title('Variance vs. PCA Component for BCW')\n",
    "plt.grid()\n",
    "\n",
    "plt.figure()\n",
    "plt.plot(np.arange(1, pca.explained_variance_ratio_.size + 1),\n",
    "         pca.explained_variance_ratio_, label='var')\n",
    "plt.plot(np.arange(1, pca.explained_variance_ratio_.size + 1),\n",
    "         np.cumsum(pca.explained_variance_ratio_), label='cum var')\n",
    "plt.xticks(np.arange(1, pca.explained_variance_ratio_.size + 1, 2))\n",
    "plt.xlabel('Component')\n",
    "plt.ylabel('Variance')\n",
    "plt.title('Cumulative Variance vs. PCA Component for BCW')\n",
    "plt.legend()\n",
    "plt.grid()\n",
    "plt.savefig('images/bcw/pca_variance.png')\n"
   ]
  },
  {
   "cell_type": "code",
   "execution_count": null,
   "id": "actual-board",
   "metadata": {
    "scrolled": true
   },
   "outputs": [],
   "source": [
    "plot_reduced_dataset(\"PCA\", PCA(n_components=3).fit_transform(FEATURES))\n"
   ]
  },
  {
   "cell_type": "code",
   "execution_count": null,
   "id": "modular-customs",
   "metadata": {},
   "outputs": [],
   "source": [
    "FEATURES_PCA = PCA(n_components=6).fit_transform(FEATURES)\n",
    "FEATURES_PCA_TRAIN, FEATURES_PCA_TEST, TARGET_PCA_TRAIN, TARGET_PCA_TEST = train_test_split(\n",
    "    FEATURES_PCA, TARGET, test_size=0.3, random_state=42)\n"
   ]
  },
  {
   "cell_type": "markdown",
   "id": "christian-pixel",
   "metadata": {},
   "source": [
    "## ICA"
   ]
  },
  {
   "cell_type": "code",
   "execution_count": null,
   "id": "secure-worst",
   "metadata": {},
   "outputs": [],
   "source": [
    "kurtosis_values = []\n",
    "for i in range(1, 30):\n",
    "    FEATURES_ICA = FastICA(n_components=i).fit_transform(FEATURES)\n",
    "    kur = scipy.stats.kurtosis(FEATURES_ICA)\n",
    "    kurtosis_values.append(np.mean(kur)/i)\n",
    "kurtosis_values = np.array(kurtosis_values)\n"
   ]
  },
  {
   "cell_type": "code",
   "execution_count": null,
   "id": "452454a1",
   "metadata": {},
   "outputs": [],
   "source": [
    "plt.plot(np.arange(1, 30), kurtosis_values)\n",
    "plt.xlabel('Components')\n",
    "plt.ylabel('Normalized Mean Kurtosis Value')\n",
    "plt.grid()\n",
    "plt.title('Normalized Mean Kurtosis Value vs. Components (BCW)')\n",
    "plt.savefig('images/bcw/ica_kurtosis.png')\n",
    "plt.show()\n"
   ]
  },
  {
   "cell_type": "code",
   "execution_count": null,
   "id": "developmental-familiar",
   "metadata": {},
   "outputs": [],
   "source": [
    "plot_reduced_dataset(\"ICA\", FastICA(n_components=3).fit_transform(FEATURES))\n"
   ]
  },
  {
   "cell_type": "code",
   "execution_count": null,
   "id": "textile-trigger",
   "metadata": {},
   "outputs": [],
   "source": [
    "FEATURES_ICA = FastICA(n_components=np.argmax(\n",
    "    kurtosis_values)+1).fit_transform(FEATURES)\n",
    "FEATURES_ICA_TRAIN, FEATURES_ICA_TEST, TARGET_ICA_TRAIN, TARGET_ICA_TEST = train_test_split(\n",
    "    FEATURES_ICA, TARGET, test_size=0.3, random_state=42)\n"
   ]
  },
  {
   "cell_type": "markdown",
   "id": "chronic-forge",
   "metadata": {},
   "source": [
    "## RP"
   ]
  },
  {
   "cell_type": "code",
   "execution_count": null,
   "id": "buried-denmark",
   "metadata": {},
   "outputs": [],
   "source": [
    "reconstruction_error = []\n",
    "reconstruction_variance = []\n",
    "for i in range(1, 30):\n",
    "    mean_mse = []\n",
    "    for j in range(0, 100):\n",
    "        rp = GaussianRandomProjection(n_components=i)\n",
    "        FEATURES_RP = rp.fit(FEATURES)\n",
    "        w = FEATURES_RP.components_\n",
    "        p = pinv(w)\n",
    "        reconstructed = ((p@w)@(FEATURES.T)).T\n",
    "        mean_mse.append(mean_squared_error(FEATURES, reconstructed))\n",
    "    reconstruction_variance.append(np.std(mean_mse))\n",
    "    reconstruction_error.append(np.mean(mean_mse))\n",
    "reconstruction_error = np.array(reconstruction_error)\n"
   ]
  },
  {
   "cell_type": "code",
   "execution_count": null,
   "id": "fda4d3d8",
   "metadata": {},
   "outputs": [],
   "source": [
    "plt.plot(np.arange(1, 30), reconstruction_error)\n",
    "plt.fill_between(np.arange(1, 30), reconstruction_error - reconstruction_variance,\n",
    "                 reconstruction_error + reconstruction_variance, alpha=0.2)\n",
    "plt.xlabel('Components')\n",
    "plt.ylabel('Reconstruction Error for RP')\n",
    "plt.title('Reconstruction error vs. Number of Components for RP (BCW)')\n",
    "plt.grid()\n",
    "plt.savefig('images/bcw/rp_error.png')\n",
    "plt.show()\n"
   ]
  },
  {
   "cell_type": "code",
   "execution_count": null,
   "id": "major-huntington",
   "metadata": {},
   "outputs": [],
   "source": [
    "plot_reduced_dataset(\n",
    "  \"RP\",\n",
    "  GaussianRandomProjection(n_components=3).fit_transform(FEATURES)\n",
    ")\n"
   ]
  },
  {
   "cell_type": "code",
   "execution_count": null,
   "id": "complimentary-cosmetic",
   "metadata": {},
   "outputs": [],
   "source": [
    "FEATURES_RP = GaussianRandomProjection(n_components=6).fit_transform(FEATURES)\n",
    "FEATURES_RP_TRAIN, FEATURES_RP_TEST, TARGET_RP_TRAIN, TARGET_RP_TEST = train_test_split(\n",
    "    FEATURES_RP, TARGET, test_size=0.3, random_state=42)\n"
   ]
  },
  {
   "cell_type": "markdown",
   "id": "fifth-output",
   "metadata": {},
   "source": [
    "## ETC\n"
   ]
  },
  {
   "cell_type": "code",
   "execution_count": null,
   "id": "portuguese-federation",
   "metadata": {},
   "outputs": [],
   "source": [
    "etc = ExtraTreesClassifier(n_estimators=100)\n",
    "etc = etc.fit(FEATURES, TARGET)\n",
    "print(etc.feature_importances_)\n",
    "model = SelectFromModel(etc, prefit=True)\n",
    "FEATURES_ETC = model.transform(FEATURES)\n",
    "print(model.get_support())\n",
    "FEATURES_ETC_TRAIN, FEATURES_ETC_TEST, TARGET_ETC_TRAIN, TARGET_ETC_TEST = train_test_split(\n",
    "    FEATURES_ETC, TARGET, test_size=0.3, random_state=42)\n"
   ]
  },
  {
   "cell_type": "markdown",
   "id": "worst-partnership",
   "metadata": {},
   "source": [
    "# Clustering with Dimensionality Reduction\n"
   ]
  },
  {
   "cell_type": "markdown",
   "id": "detailed-intellectual",
   "metadata": {},
   "source": [
    "## K-Means\n"
   ]
  },
  {
   "cell_type": "markdown",
   "id": "8c8bcbf6",
   "metadata": {},
   "source": [
    "### PCA"
   ]
  },
  {
   "cell_type": "code",
   "execution_count": null,
   "id": "global-slovak",
   "metadata": {},
   "outputs": [],
   "source": [
    "kmeans_clustering(np.arange(1, 25, 1), FEATURES_PCA, TARGET, \"pca\")\n"
   ]
  },
  {
   "cell_type": "markdown",
   "id": "ad98977d",
   "metadata": {},
   "source": [
    "### ICA\n"
   ]
  },
  {
   "cell_type": "code",
   "execution_count": null,
   "id": "flexible-trailer",
   "metadata": {},
   "outputs": [],
   "source": [
    "kmeans_clustering(np.arange(1, 50, 2), FEATURES_ICA, TARGET, \"ica\")\n"
   ]
  },
  {
   "cell_type": "markdown",
   "id": "eb2fa7ae",
   "metadata": {},
   "source": [
    "### RP\n"
   ]
  },
  {
   "cell_type": "code",
   "execution_count": null,
   "id": "correct-burst",
   "metadata": {},
   "outputs": [],
   "source": [
    "kmeans_clustering(np.arange(1, 25, 1), FEATURES_RP, TARGET, \"rp\")\n"
   ]
  },
  {
   "cell_type": "markdown",
   "id": "66d92b27",
   "metadata": {},
   "source": [
    "### ETC\n"
   ]
  },
  {
   "cell_type": "code",
   "execution_count": null,
   "id": "horizontal-departure",
   "metadata": {},
   "outputs": [],
   "source": [
    "kmeans_clustering(np.arange(1, 25, 1), FEATURES_ETC, TARGET, \"etc\")\n"
   ]
  },
  {
   "cell_type": "markdown",
   "id": "worse-cornwall",
   "metadata": {},
   "source": [
    "## EM (GMM)"
   ]
  },
  {
   "cell_type": "markdown",
   "id": "39af4afe",
   "metadata": {},
   "source": [
    "### PCA\n"
   ]
  },
  {
   "cell_type": "code",
   "execution_count": null,
   "id": "legal-helena",
   "metadata": {},
   "outputs": [],
   "source": [
    "gmm_clustering(FEATURES_PCA, TARGET, 40, \"pca\")\n"
   ]
  },
  {
   "cell_type": "markdown",
   "id": "d82946c9",
   "metadata": {},
   "source": [
    "### ICA\n"
   ]
  },
  {
   "cell_type": "code",
   "execution_count": null,
   "id": "tender-helen",
   "metadata": {},
   "outputs": [],
   "source": [
    "gmm_clustering(FEATURES_ICA, TARGET, 40, \"ica\")\n"
   ]
  },
  {
   "cell_type": "markdown",
   "id": "2a2a818a",
   "metadata": {},
   "source": [
    "### RP\n"
   ]
  },
  {
   "cell_type": "code",
   "execution_count": null,
   "id": "coated-amateur",
   "metadata": {},
   "outputs": [],
   "source": [
    "gmm_clustering(FEATURES_RP, TARGET, 40, \"rp\")\n"
   ]
  },
  {
   "cell_type": "markdown",
   "id": "a223054c",
   "metadata": {},
   "source": [
    "### ETC\n"
   ]
  },
  {
   "cell_type": "code",
   "execution_count": null,
   "id": "protective-sustainability",
   "metadata": {},
   "outputs": [],
   "source": [
    "gmm_clustering(FEATURES_ETC, TARGET, 40, \"etc\")\n"
   ]
  },
  {
   "cell_type": "markdown",
   "id": "static-chess",
   "metadata": {},
   "source": [
    "# Neural Network with Dimensionality Reduction"
   ]
  },
  {
   "cell_type": "markdown",
   "id": "fleet-turkish",
   "metadata": {},
   "source": [
    "## Nominal Performance"
   ]
  },
  {
   "cell_type": "code",
   "execution_count": null,
   "id": "compliant-hurricane",
   "metadata": {},
   "outputs": [],
   "source": [
    "nn_classifier_normal = MLPClassifier(random_state=42, max_iter=2000)\n",
    "train_scores, test_scores = validation_curve(\n",
    "    nn_classifier_normal,\n",
    "    FEATURES_TRAIN, TARGET_TRAIN,\n",
    "    param_name=\"hidden_layer_sizes\",\n",
    "    param_range=np.arange(2, 31, 2), cv=4\n",
    ")\n",
    "\n",
    "plt.figure()\n",
    "plt.plot(np.arange(2, 31, 2), np.mean(\n",
    "    train_scores, axis=1), label='Train Score')\n",
    "plt.plot(np.arange(2, 31, 2), np.mean(test_scores, axis=1), label='CV Score')\n",
    "plt.legend()\n",
    "plt.title(\"Validation Curve for Hidden Layer Size (Neural Network)\")\n",
    "plt.xlabel(\"Number of Nodes\")\n",
    "plt.ylabel(\"Score\")\n",
    "plt.grid()\n",
    "plt.xticks(np.arange(2, 31, 2))\n",
    "plt.savefig('images/bcw/neural_network_validation_curve.png')\n",
    "plt.show()\n"
   ]
  },
  {
   "cell_type": "code",
   "execution_count": null,
   "id": "greenhouse-stereo",
   "metadata": {},
   "outputs": [],
   "source": [
    "train_neural_network(\n",
    "    nn_classifier_normal,\n",
    "    FEATURES_TRAIN, TARGET_TRAIN,\n",
    "    FEATURES_TEST, TARGET_TEST, \"nom\"\n",
    ")\n"
   ]
  },
  {
   "cell_type": "markdown",
   "id": "capital-scale",
   "metadata": {},
   "source": [
    "## PCA"
   ]
  },
  {
   "cell_type": "code",
   "execution_count": null,
   "id": "awful-cornwall",
   "metadata": {},
   "outputs": [],
   "source": [
    "nn_classifier_pca = MLPClassifier(random_state=42, max_iter=2000)\n",
    "\n",
    "train_neural_network(\n",
    "    nn_classifier_pca,\n",
    "    FEATURES_PCA_TRAIN, TARGET_PCA_TRAIN,\n",
    "    FEATURES_PCA_TEST, TARGET_PCA_TEST, \"pca\"\n",
    ")\n"
   ]
  },
  {
   "cell_type": "markdown",
   "id": "spatial-teaching",
   "metadata": {},
   "source": [
    "## ICA"
   ]
  },
  {
   "cell_type": "code",
   "execution_count": null,
   "id": "desirable-endorsement",
   "metadata": {},
   "outputs": [],
   "source": [
    "nn_classifier_ica = MLPClassifier(random_state=42, max_iter=2000)\n",
    "\n",
    "train_neural_network(\n",
    "    nn_classifier_ica,\n",
    "    FEATURES_ICA_TRAIN, TARGET_ICA_TRAIN,\n",
    "    FEATURES_ICA_TEST, TARGET_ICA_TEST, \"ica\"\n",
    ")\n"
   ]
  },
  {
   "cell_type": "markdown",
   "id": "nutritional-whole",
   "metadata": {},
   "source": [
    "## RP"
   ]
  },
  {
   "cell_type": "code",
   "execution_count": null,
   "id": "focused-murder",
   "metadata": {},
   "outputs": [],
   "source": [
    "nn_classifier_rp = MLPClassifier(random_state=42, max_iter=2000)\n",
    "\n",
    "train_neural_network(\n",
    "    nn_classifier_rp,\n",
    "    FEATURES_RP_TRAIN, TARGET_RP_TRAIN,\n",
    "    FEATURES_RP_TEST, TARGET_RP_TEST, \"rp\"\n",
    ")\n"
   ]
  },
  {
   "cell_type": "markdown",
   "id": "extra-kitchen",
   "metadata": {},
   "source": [
    "## ETC\n"
   ]
  },
  {
   "cell_type": "code",
   "execution_count": null,
   "id": "armed-demonstration",
   "metadata": {},
   "outputs": [],
   "source": [
    "nn_classifier_etc = MLPClassifier(random_state=42, max_iter=2000)\n",
    "\n",
    "train_neural_network(\n",
    "    nn_classifier_etc,\n",
    "    FEATURES_ETC_TRAIN, TARGET_ETC_TRAIN,\n",
    "    FEATURES_ETC_TEST, TARGET_ETC_TEST, \"etc\"\n",
    ")\n"
   ]
  },
  {
   "cell_type": "markdown",
   "id": "german-drilling",
   "metadata": {},
   "source": [
    "# Neural Network with Clustering"
   ]
  },
  {
   "cell_type": "markdown",
   "id": "applied-benchmark",
   "metadata": {},
   "source": [
    "## K-Means\n"
   ]
  },
  {
   "cell_type": "code",
   "execution_count": null,
   "id": "center-attribute",
   "metadata": {},
   "outputs": [],
   "source": [
    "k = 6\n",
    "k_means_clustering = KMeans(n_clusters=k, random_state=42)\n",
    "k_means_clustering.fit_transform(FEATURES)\n"
   ]
  },
  {
   "cell_type": "code",
   "execution_count": null,
   "id": "mysterious-kidney",
   "metadata": {},
   "outputs": [],
   "source": [
    "FEATURES_KMEANS = np.append(\n",
    "    FEATURES, k_means_clustering.fit_transform(FEATURES), 1)\n",
    "FEATURES_KMEANS_TRAIN, FEATURES_KMEANS_TEST, TARGET_KMEANS_TRAIN, TARGET_KMEANS_TEST = train_test_split(\n",
    "    FEATURES_KMEANS, TARGET, test_size=0.3, random_state=42)\n"
   ]
  },
  {
   "cell_type": "code",
   "execution_count": null,
   "id": "biological-harbor",
   "metadata": {},
   "outputs": [],
   "source": [
    "nn_classifier_kmeans = MLPClassifier(random_state=42, max_iter=2000)\n",
    "\n",
    "train_neural_network(\n",
    "    nn_classifier_kmeans,\n",
    "    FEATURES_KMEANS_TRAIN, TARGET_KMEANS_TRAIN,\n",
    "    FEATURES_KMEANS_TEST, TARGET_KMEANS_TEST, \"kmeans\"\n",
    ")\n"
   ]
  },
  {
   "cell_type": "markdown",
   "id": "previous-invalid",
   "metadata": {},
   "source": [
    "## EM (GMM)"
   ]
  },
  {
   "cell_type": "code",
   "execution_count": null,
   "id": "arranged-provider",
   "metadata": {},
   "outputs": [],
   "source": [
    "gmm = GaussianMixture(n_components=2, covariance_type='full')\n",
    "gmm.fit(FEATURES)\n",
    "gmm.predict_proba(FEATURES)\n"
   ]
  },
  {
   "cell_type": "code",
   "execution_count": null,
   "id": "municipal-storage",
   "metadata": {},
   "outputs": [],
   "source": [
    "FEATURES_GMM = np.append(FEATURES, gmm.predict_proba(FEATURES), 1)\n",
    "FEATURES_GMM_TRAIN, FEATURES_GMM_TEST, TARGET_GMM_TRAIN, TARGET_GMM_TEST = train_test_split(\n",
    "    FEATURES_GMM, TARGET, test_size=0.3, random_state=42)\n"
   ]
  },
  {
   "cell_type": "code",
   "execution_count": null,
   "id": "oriental-vatican",
   "metadata": {},
   "outputs": [],
   "source": [
    "nn_classifier_gmm = MLPClassifier(random_state=42, max_iter=2000)\n",
    "\n",
    "train_neural_network(\n",
    "    nn_classifier_gmm,\n",
    "    FEATURES_GMM_TRAIN, TARGET_GMM_TRAIN,\n",
    "    FEATURES_GMM_TEST, TARGET_GMM_TEST, \"gmm\"\n",
    ")\n"
   ]
  }
 ],
 "metadata": {
  "kernelspec": {
   "display_name": "Python 3.10.6 64-bit",
   "language": "python",
   "name": "python3"
  },
  "language_info": {
   "codemirror_mode": {
    "name": "ipython",
    "version": 3
   },
   "file_extension": ".py",
   "mimetype": "text/x-python",
   "name": "python",
   "nbconvert_exporter": "python",
   "pygments_lexer": "ipython3",
   "version": "3.10.6"
  },
  "vscode": {
   "interpreter": {
    "hash": "e7370f93d1d0cde622a1f8e1c04877d8463912d04d973331ad4851f04de6915a"
   }
  }
 },
 "nbformat": 4,
 "nbformat_minor": 5
}
